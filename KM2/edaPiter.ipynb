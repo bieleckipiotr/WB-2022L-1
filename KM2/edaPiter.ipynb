{
 "cells": [
  {
   "cell_type": "markdown",
   "id": "69bd7f4e",
   "metadata": {},
   "source": [
    "# Praca domowa 2"
   ]
  },
  {
   "cell_type": "markdown",
   "id": "5d3bbdad",
   "metadata": {},
   "source": [
    "!!!Nie tworzyć tu kodu, tylko wypisywac same informacje!!!"
   ]
  },
  {
   "cell_type": "markdown",
   "id": "3884cdaf",
   "metadata": {},
   "source": [
    "## INFORMACJE PODSTAWOWE"
   ]
  },
  {
   "cell_type": "markdown",
   "id": "f5d46d1a",
   "metadata": {},
   "source": [
    "rodzaj bazy danych: tekstowa, obrazowa, tabelaryczna"
   ]
  },
  {
   "cell_type": "markdown",
   "id": "cc35c28b",
   "metadata": {},
   "source": [
    "#### obie bazy danych są obrazowo - tabelaryczne"
   ]
  },
  {
   "cell_type": "markdown",
   "id": "411049d5",
   "metadata": {},
   "source": [
    " jakie zadania można wykonać na tych danych (wszystkie możliwe) np. klasyfikacja wieloetykietowa, segmentacja zmian płucnych/segmentacja płuc"
   ]
  },
  {
   "cell_type": "markdown",
   "id": "f481da04",
   "metadata": {},
   "source": [
    "#### `siim-covid-19` detekcja\n",
    "#### `Luna 16` - segmentacja zmian płucnych"
   ]
  },
  {
   "cell_type": "markdown",
   "id": "1a2d1b13",
   "metadata": {},
   "source": [
    " licencja. czy jest przy danych, jaka?"
   ]
  },
  {
   "cell_type": "markdown",
   "id": "797df628",
   "metadata": {},
   "source": [
    "#### `Luna-16` ma licencję ` Creative Commons Attribution 4.0 International License.` umożliwiającą udostępnianie i adaptację materiałów pod warunkiem wspomnienia twórców, dostarczenia linku do licencji, napisania explicite, jeżeli jakieś zmiany zostały wprowadzone  \n",
    "#### nie znalazłem licencji do bazy `siim-covid-19`"
   ]
  },
  {
   "cell_type": "markdown",
   "id": "4880092b",
   "metadata": {},
   "source": [
    "rodzaje annotacji - maski / etykiety"
   ]
  },
  {
   "cell_type": "markdown",
   "id": "e46c6d68",
   "metadata": {},
   "source": [
    "#### w obu bazach danych - etykiety"
   ]
  },
  {
   "cell_type": "markdown",
   "id": "48e1451b",
   "metadata": {},
   "source": [
    "etykiety to choroby, czy zmiany chorobowe?"
   ]
  },
  {
   "cell_type": "markdown",
   "id": "7f89549c",
   "metadata": {},
   "source": [
    "#### w obu bazach danych etykiety to zmiany chorobowe"
   ]
  },
  {
   "cell_type": "markdown",
   "id": "fb94478b",
   "metadata": {},
   "source": [
    "czy zdjęcia 2d/3d"
   ]
  },
  {
   "cell_type": "markdown",
   "id": "5e51364b",
   "metadata": {},
   "source": [
    "#### siim-covid-19 to baza ze zdjęciami 2d  (Rentgen Płuc)\n",
    "#### luna-16 to baza ze zdjęciami 3d (Tomografia Komputerowa)"
   ]
  },
  {
   "cell_type": "markdown",
   "id": "ac0e16e3",
   "metadata": {},
   "source": [
    "## DANE ILOŚCIOWE"
   ]
  },
  {
   "cell_type": "markdown",
   "id": "db139ba5",
   "metadata": {},
   "source": [
    "liczba zdjęć w bazie danych (w przypadku wielu zdjęć dla tego samego pacjenta podczas jednego badania np. format DICOM, to drugą liczbę wpisać w nawiasach)"
   ]
  },
  {
   "cell_type": "markdown",
   "id": "64faea75",
   "metadata": {},
   "source": [
    "#### baza `siim-covid-19` ma 6054 badania treningowe (zdjęcia treningowe 6334), testowe - 1263 zdjęcia  (łącznie 7597 zdjęć)\n",
    "#### baza `luna 16` ma  888 skanów"
   ]
  },
  {
   "cell_type": "markdown",
   "id": "10d6558e",
   "metadata": {},
   "source": [
    "liczba unikatowych pacjentów"
   ]
  },
  {
   "cell_type": "markdown",
   "id": "c06e41b8",
   "metadata": {},
   "source": [
    "#### `siim-covid-19` ma 3261 unikatowych pacjentów  \n",
    "#### `Luna-16` nie podaje informacji o pacjentach"
   ]
  },
  {
   "cell_type": "markdown",
   "id": "302bee7f",
   "metadata": {},
   "source": [
    "CT / RTG. jeśli jest miks w bazie to osobno analiza CT, a osobno RTG"
   ]
  },
  {
   "cell_type": "markdown",
   "id": "f51dd258",
   "metadata": {},
   "source": [
    "#### `siim-covid-19` RTG\n",
    "#### `Luna-16` CT"
   ]
  },
  {
   "cell_type": "markdown",
   "id": "0401a3b7",
   "metadata": {},
   "source": [
    "projekcje zdjęć RTG - ile, których"
   ]
  },
  {
   "cell_type": "markdown",
   "id": "e696812b",
   "metadata": {},
   "source": [
    "#### `siim-covid-19` ma różne kategorie \"rentgenowanej części ciała\", natomiast wszystkie te zdjęcia to RTG klatki piersiowej od frontu"
   ]
  },
  {
   "cell_type": "markdown",
   "id": "57a890ab",
   "metadata": {},
   "source": [
    "czy wszystkie zdjęcia mają maski, ile z nich ma"
   ]
  },
  {
   "cell_type": "markdown",
   "id": "4c6b8fa7",
   "metadata": {},
   "source": [
    "#### ---------------------------------------------------------------------------------------------------------------"
   ]
  },
  {
   "cell_type": "markdown",
   "id": "c8b336a5",
   "metadata": {},
   "source": [
    "czy są zdjęcia tego samego pacjenta, gdy był chory a zdrowy? ile?"
   ]
  },
  {
   "cell_type": "markdown",
   "id": "40c9d97c",
   "metadata": {},
   "source": [
    "#### `siim-covid-19` - 409 takich pacjentów\n",
    "#### `luna 16` - brak takich pacjentów/zdjęć"
   ]
  },
  {
   "cell_type": "markdown",
   "id": "c1aa750f",
   "metadata": {},
   "source": [
    "liczba atrybutów z pilku np. DICOM"
   ]
  },
  {
   "cell_type": "markdown",
   "id": "34893bf6",
   "metadata": {},
   "source": [
    "#### `siim-covid-19` posiada 38 w pliku DICOM"
   ]
  },
  {
   "cell_type": "markdown",
   "id": "b52ad1e6",
   "metadata": {},
   "source": [
    "## INFORMACJE O DANYCH"
   ]
  },
  {
   "cell_type": "markdown",
   "id": "41a96f3a",
   "metadata": {},
   "source": [
    "rozszerzenie zdjęć (wszystkie występujące rozszerzenia)"
   ]
  },
  {
   "cell_type": "markdown",
   "id": "907c34c3",
   "metadata": {},
   "source": [
    "#### `siim-covid-19` [.dcm, .csv]\n",
    "#### `luna-16` [.mhd, .raw, .csv]"
   ]
  },
  {
   "cell_type": "markdown",
   "id": "e13a57fb",
   "metadata": {},
   "source": [
    "czy jest info o sprzęcie, na którym wykonano badania? jaki to sprzęt"
   ]
  },
  {
   "cell_type": "markdown",
   "id": "2f0b889f",
   "metadata": {},
   "source": [
    "#### `siim-covid-19` - jest info jakościowe o sprzęcie (ustawienia), nie jest określone dokładnie co to za sprzęt\n",
    "#### `luna-16` - ma informację dotyczącą producenta sprzętu"
   ]
  },
  {
   "cell_type": "markdown",
   "id": "1c3eb087",
   "metadata": {},
   "source": [
    "w jakim formacie annotacje"
   ]
  },
  {
   "cell_type": "markdown",
   "id": "26d32c19",
   "metadata": {},
   "source": [
    "#### w obu bazach annotacje są w formacie .csv"
   ]
  },
  {
   "cell_type": "markdown",
   "id": "169656de",
   "metadata": {},
   "source": [
    "w jakich płaszczyznach mamy zdjęcia"
   ]
  },
  {
   "cell_type": "markdown",
   "id": "f373334c",
   "metadata": {},
   "source": [
    "jakie nazwy klas"
   ]
  },
  {
   "cell_type": "markdown",
   "id": "81939a9b",
   "metadata": {},
   "source": [
    "czy kontrast obecny"
   ]
  },
  {
   "cell_type": "markdown",
   "id": "edd087f3",
   "metadata": {},
   "source": [
    "#### brak info"
   ]
  },
  {
   "cell_type": "markdown",
   "id": "ebf67e95",
   "metadata": {},
   "source": [
    "lata, w których były wykonywane zdjęcia"
   ]
  },
  {
   "cell_type": "markdown",
   "id": "725f5c98",
   "metadata": {},
   "source": [
    "#### `siim-covid-19` - dane są zaszyfrowane\n",
    "#### `luna-16` - wszystkie daty są zapisane na 2000.01.01"
   ]
  },
  {
   "cell_type": "markdown",
   "id": "8166780f",
   "metadata": {},
   "source": [
    "w CT \"Slice Thickness\""
   ]
  },
  {
   "cell_type": "markdown",
   "id": "8ad899b8",
   "metadata": {},
   "source": [
    "#### `luna 16` mamy różne \"slice thickness\", od 0.45mm do 2.5mm, ze średnią równą 1.57 mm"
   ]
  },
  {
   "cell_type": "markdown",
   "id": "a897dd2e",
   "metadata": {},
   "source": [
    "czy zdjęcia są kwadratowe? scatterplot (lub scatter plot matrix dla 3d) wysokości i szerokości zdjęcia"
   ]
  },
  {
   "cell_type": "markdown",
   "id": "2d5bc546",
   "metadata": {},
   "source": [
    "#### `luna 16` skany są kwadratowe, poniżej histogram liczby przekrojów w skanie"
   ]
  },
  {
   "cell_type": "markdown",
   "id": "383abb29",
   "metadata": {},
   "source": [
    "![alt text](LunaSizeX.png \"Luna 16\")"
   ]
  },
  {
   "cell_type": "markdown",
   "id": "5bb09c98",
   "metadata": {},
   "source": [
    "#### `siim-covid-19` scatter:"
   ]
  },
  {
   "cell_type": "markdown",
   "id": "7e2d30eb",
   "metadata": {},
   "source": [
    "![alt text](siimSizes.png \"siim\")"
   ]
  },
  {
   "cell_type": "markdown",
   "id": "c568eeb2",
   "metadata": {},
   "source": [
    "SpatialResolution_DICOM"
   ]
  },
  {
   "cell_type": "markdown",
   "id": "c3a09473",
   "metadata": {},
   "source": [
    "#### nie ma atrybutu"
   ]
  },
  {
   "cell_type": "markdown",
   "id": "6ee85418",
   "metadata": {},
   "source": [
    "czy istnieje podział na zbiór treningowy i testowy"
   ]
  },
  {
   "cell_type": "markdown",
   "id": "7bbd7019",
   "metadata": {},
   "source": [
    "#### `siim-covid-19` istnieje podział  \n",
    "#### `luna 16` podział na 10 podzbiorów, przy uczeniu należy wykorzystać \"cross-validation\""
   ]
  },
  {
   "cell_type": "markdown",
   "id": "dea289a2",
   "metadata": {},
   "source": [
    "czy jest info o kraju pochodzenia zdjęć? które kraje"
   ]
  },
  {
   "cell_type": "markdown",
   "id": "b4995ffa",
   "metadata": {},
   "source": [
    "#### nie ma"
   ]
  },
  {
   "cell_type": "markdown",
   "id": "bec93979",
   "metadata": {},
   "source": [
    "## BALANS DANYCH"
   ]
  },
  {
   "cell_type": "markdown",
   "id": "514374e5",
   "metadata": {},
   "source": [
    "balans klas w zbiorze treningowym a testowym"
   ]
  },
  {
   "cell_type": "markdown",
   "id": "cca06b2a",
   "metadata": {},
   "source": [
    "#### `siim-covid-19` treningowy zbiór stanowi 83% całości"
   ]
  },
  {
   "cell_type": "markdown",
   "id": "0564aed2",
   "metadata": {},
   "source": [
    "balans w płci"
   ]
  },
  {
   "cell_type": "markdown",
   "id": "e6d85173",
   "metadata": {},
   "source": [
    "#### siim-covid-19:"
   ]
  },
  {
   "cell_type": "markdown",
   "id": "55aac43d",
   "metadata": {},
   "source": [
    "![alt text](siimPatientsBySex.png)"
   ]
  },
  {
   "cell_type": "markdown",
   "id": "9c0c2626",
   "metadata": {},
   "source": [
    "#### `Luna-16` brak"
   ]
  },
  {
   "cell_type": "markdown",
   "id": "4ca3ffae",
   "metadata": {},
   "source": [
    "rozkład płci i wieku"
   ]
  },
  {
   "cell_type": "code",
   "execution_count": null,
   "id": "d8c796e4",
   "metadata": {},
   "outputs": [],
   "source": [
    "--------------------------"
   ]
  },
  {
   "cell_type": "markdown",
   "id": "0cfc6f72",
   "metadata": {},
   "source": [
    "rozkład wieku i zdrowości/chorób"
   ]
  },
  {
   "cell_type": "code",
   "execution_count": null,
   "id": "081a2bed",
   "metadata": {},
   "outputs": [],
   "source": [
    "-------------------------------------------"
   ]
  },
  {
   "cell_type": "markdown",
   "id": "027d6be0",
   "metadata": {},
   "source": [
    "balans innych danych w zbiorach"
   ]
  },
  {
   "cell_type": "markdown",
   "id": "ac14b0d6",
   "metadata": {},
   "source": [
    "## ANALIZA METADANYCH"
   ]
  },
  {
   "cell_type": "markdown",
   "id": "dc94e0ae",
   "metadata": {},
   "source": [
    "jakie metadane"
   ]
  },
  {
   "cell_type": "markdown",
   "id": "8e41b232",
   "metadata": {},
   "source": [
    "#### `siim-covid-19` ma sporo zdeidentyfikowanych danych,zostały takie, z których niespecjalnie da się cokolwiek wyciągnąć na temat stanu zdrowia pacjentów. Mamy różne rodzaje zdjęć, płeć pacjentów i dane dotyczące samego zdjęcia. Oprócz tego w dołączonych ramkach csv mamy informację czy pacjent chorował i czy wykazał atypowości w rtg klatki piersiowej. \n"
   ]
  },
  {
   "cell_type": "markdown",
   "id": "7550f762",
   "metadata": {},
   "source": [
    "#### `luna-16` ma skromne metadane, zawierają one pewne opisy \"series description\", takie jak \"NLST TLC VOL B30F\" albo \"Recon 2: ACRIN LARGE\", oraz \"CHEST\" - dość różnorodnie, kilkanaście takich opisów występuje. Mamy też informację na temat producenta sprzętu, 662 zdjęcia zostały zrobione tomografem od \"GE MEDICAL SYSTEMS\", mamy też Siemens(148), Phillips(73) i Toshibę(5)"
   ]
  },
  {
   "cell_type": "markdown",
   "id": "fb55f21f",
   "metadata": {},
   "source": [
    "jakie są dane zakodowne w dicom"
   ]
  },
  {
   "cell_type": "markdown",
   "id": "8cecd1ec",
   "metadata": {},
   "source": [
    "#### data badania, wiek i imię pacjenta w `siim`"
   ]
  },
  {
   "cell_type": "markdown",
   "id": "f2197258",
   "metadata": {},
   "source": [
    "poważność zmian - czy jest mierzona"
   ]
  },
  {
   "cell_type": "markdown",
   "id": "8a0dbf71",
   "metadata": {},
   "source": [
    "nie jest"
   ]
  },
  {
   "cell_type": "markdown",
   "id": "322f86da",
   "metadata": {},
   "source": [
    "czy są pacjenci covidowi"
   ]
  },
  {
   "cell_type": "markdown",
   "id": "04cddae1",
   "metadata": {},
   "source": [
    "#### `siim - covid - 19` ma pacjentów covidowych, jest ich 4378"
   ]
  },
  {
   "cell_type": "markdown",
   "id": "c6f28292",
   "metadata": {},
   "source": [
    "jakie dane zostały usunięte? imię, wiek, płeć, data zrobienia zdjęcia"
   ]
  },
  {
   "cell_type": "markdown",
   "id": "be9eabca",
   "metadata": {},
   "source": [
    "praktycznie wszystkie dane które są związane z aspektami technicznymi zdjęcia zostały usunięte"
   ]
  }
 ],
 "metadata": {
  "kernelspec": {
   "display_name": "Python 3 (ipykernel)",
   "language": "python",
   "name": "python3"
  },
  "language_info": {
   "codemirror_mode": {
    "name": "ipython",
    "version": 3
   },
   "file_extension": ".py",
   "mimetype": "text/x-python",
   "name": "python",
   "nbconvert_exporter": "python",
   "pygments_lexer": "ipython3",
   "version": "3.9.7"
  }
 },
 "nbformat": 4,
 "nbformat_minor": 5
}
