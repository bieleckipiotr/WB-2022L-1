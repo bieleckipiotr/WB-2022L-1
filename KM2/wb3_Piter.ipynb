{
 "cells": [
  {
   "cell_type": "markdown",
   "id": "001e18e9",
   "metadata": {},
   "source": [
    "# Praca domowa 3-WB"
   ]
  },
  {
   "cell_type": "markdown",
   "id": "b06a30d3",
   "metadata": {},
   "source": [
    "# Dane jakościowe"
   ]
  },
  {
   "cell_type": "markdown",
   "id": "a27d185f",
   "metadata": {},
   "source": [
    "jakość zdjeć // https://pypi.org/project/image-quality/"
   ]
  },
  {
   "cell_type": "markdown",
   "id": "88527fed",
   "metadata": {},
   "source": [
    "jakość zdjęć według brisque score, porównanie ze względu na występowanie choroby pokazuje, że jakością zdjęcia nie różnią się znacząco między klasami, jeśli chodzi o podział ze względu na `appearance`, sytuacja podobnie, rozkłady praktycznie nie różnią się położeniem."
   ]
  },
  {
   "cell_type": "markdown",
   "id": "65987a28",
   "metadata": {},
   "source": [
    "<img src=\"siim_image_quality_by_pneumonia.svg\">"
   ]
  },
  {
   "cell_type": "markdown",
   "id": "f974a344",
   "metadata": {},
   "source": [
    "<img src=\"siim_image_quality_by_atypical.svg\">"
   ]
  },
  {
   "cell_type": "markdown",
   "id": "b732e571",
   "metadata": {},
   "source": [
    "W bazie danych Luna-16 rozkład próbki zdjęć wygląda tak:"
   ]
  },
  {
   "cell_type": "markdown",
   "id": "f832b887",
   "metadata": {},
   "source": [
    "<img src=\"luna_16_quality_of_image.svg\">"
   ]
  },
  {
   "cell_type": "markdown",
   "id": "fb75ee7e",
   "metadata": {},
   "source": [
    "czy zdjęcia między klasami i między bazami danych się różnią czymś poza płucami (?)"
   ]
  },
  {
   "cell_type": "markdown",
   "id": "372fa847",
   "metadata": {},
   "source": [
    "Niespecjalnie"
   ]
  },
  {
   "cell_type": "markdown",
   "id": "4d40b109",
   "metadata": {},
   "source": [
    "czy dużo zdjęć rozmazanych. sprawdzenie ostrości zdjęcia // https://pyimagesearch.com/2015/09/07/blur-detection-with-opencv/"
   ]
  },
  {
   "cell_type": "markdown",
   "id": "5db191cd",
   "metadata": {},
   "source": [
    "rozmazanie zdjęć siim:"
   ]
  },
  {
   "cell_type": "markdown",
   "id": "52dae331",
   "metadata": {},
   "source": [
    "<img src=\"siim_blur.svg\">"
   ]
  },
  {
   "cell_type": "markdown",
   "id": "626ce1a2",
   "metadata": {},
   "source": [
    "I Luna:"
   ]
  },
  {
   "cell_type": "markdown",
   "id": "e4273d8c",
   "metadata": {},
   "source": [
    "<img src=\"luna_blur.svg\">"
   ]
  },
  {
   "cell_type": "markdown",
   "id": "8c450eee",
   "metadata": {},
   "source": [
    "mamy dużo zdjęć, które miałyby być rozmazane, ale to nie prawda. niższy wynik przyporządkowany został tym zdjęciom, które mają mniej wyraźny kontrast."
   ]
  },
  {
   "cell_type": "markdown",
   "id": "abdea973",
   "metadata": {},
   "source": [
    "artefakty, aparatura medyczna na zdjęciach - przykład:"
   ]
  },
  {
   "cell_type": "markdown",
   "id": "232d0e45",
   "metadata": {},
   "source": [
    "<img src=\"siim_aparature_example.svg\">"
   ]
  },
  {
   "cell_type": "markdown",
   "id": "5663e80c",
   "metadata": {},
   "source": [
    "czy litery na obrazach, przykład; wykryć, czy występują litery na obrazku + kod do tego. ile tego jest?"
   ]
  },
  {
   "cell_type": "markdown",
   "id": "69c9876e",
   "metadata": {},
   "source": [
    "siim - Przykład wyżej, nie udało się wykrywać tych liter automatycznie  \n",
    "luna - brak"
   ]
  },
  {
   "cell_type": "markdown",
   "id": "92b16192",
   "metadata": {},
   "source": [
    "czy mamy podstawy sądzić, że np. zaznaczono tylko jedną zmianę/chorobę zamiast wszystkich?uzasadnienie"
   ]
  },
  {
   "cell_type": "markdown",
   "id": "bbc950d9",
   "metadata": {},
   "source": [
    "siim - nie zaznaczano choroby, a jedynie \"atypowy wygląd\"  \n",
    "luna - nie, ponieważ mamy wielu kandydatów na jeden skan"
   ]
  },
  {
   "cell_type": "markdown",
   "id": "80d99fc8",
   "metadata": {},
   "source": [
    "czy są dane osobowe (imię, nazwisko, data urodzenia)"
   ]
  },
  {
   "cell_type": "markdown",
   "id": "bc193718",
   "metadata": {},
   "source": [
    "Nie mamy praktycznie żadnych danych osobowych, wszystkie zostały zamazane"
   ]
  },
  {
   "cell_type": "markdown",
   "id": "d315c2ca",
   "metadata": {},
   "source": [
    "czy zdjęcia są jedno czy trzy kanałowe"
   ]
  },
  {
   "cell_type": "markdown",
   "id": "c5603552",
   "metadata": {},
   "source": [
    "nie wiem"
   ]
  },
  {
   "cell_type": "markdown",
   "id": "39b02f0c",
   "metadata": {},
   "source": [
    "rozmiary zdjęć, czy te same, czy różne <- rozkład"
   ]
  },
  {
   "cell_type": "markdown",
   "id": "3f667a85",
   "metadata": {},
   "source": [
    "rozkład rozmiarów zdjęć dla siim:"
   ]
  },
  {
   "cell_type": "markdown",
   "id": "4c4a1fd6",
   "metadata": {},
   "source": [
    "<img src=\"siim_image_sizes.svg\">"
   ]
  },
  {
   "cell_type": "markdown",
   "id": "eda3b2ee",
   "metadata": {},
   "source": [
    "luna - mamy tylko różnicę w liczbie zdjęć w skanie"
   ]
  },
  {
   "cell_type": "markdown",
   "id": "85d57152",
   "metadata": {},
   "source": [
    "czy są jakieś skale pewności np. annotacji?"
   ]
  },
  {
   "cell_type": "markdown",
   "id": "59f9fcb4",
   "metadata": {},
   "source": [
    "nie ma"
   ]
  },
  {
   "cell_type": "markdown",
   "id": "1343fda7",
   "metadata": {},
   "source": [
    "# ANALIZA OBRAZÓW"
   ]
  },
  {
   "cell_type": "markdown",
   "id": "b562859d",
   "metadata": {},
   "source": [
    "czy po histogramie można rozróżnić, z której klasy jest dane zdjęcie? wygenerować histogram wraz z odchyleniami od średniej dla każdej klasy"
   ]
  },
  {
   "cell_type": "markdown",
   "id": "9b5e16de",
   "metadata": {},
   "source": [
    "siim:\n",
    "<img src=\"siim greyscale histogram.svg\">"
   ]
  },
  {
   "cell_type": "markdown",
   "id": "d041e790",
   "metadata": {},
   "source": [
    "luna:\n",
    "<img src=\"luna_histogram_mean.svg\">"
   ]
  },
  {
   "cell_type": "markdown",
   "id": "994ca13c",
   "metadata": {},
   "source": [
    "nie ma znaczących różnic między histogramami zdjęć pacjentów chorych i zdrowych"
   ]
  },
  {
   "cell_type": "markdown",
   "id": "32cb773a",
   "metadata": {},
   "source": [
    "jeśli są dane tego samego pacjenta z różnych dni to zmierzyć różnicę pomiędzy obrazami."
   ]
  },
  {
   "cell_type": "markdown",
   "id": "c9bfc71d",
   "metadata": {},
   "source": [
    "nie mamy czasu badania, mamy kilka zdjęć tego samego pacjenta w bazie siim"
   ]
  },
  {
   "cell_type": "markdown",
   "id": "cdf3b1f7",
   "metadata": {},
   "source": [
    "okazuje się, że w siim są to identyczne zdjęcia."
   ]
  },
  {
   "cell_type": "markdown",
   "id": "b501a55e",
   "metadata": {},
   "source": [
    "luna - mamy różne zdjęcia tego samego pacjenta, czas każdego badania w bazie Luna jest taki sam"
   ]
  },
  {
   "cell_type": "markdown",
   "id": "e667a7ce",
   "metadata": {},
   "source": [
    "jakie są wartości pikseli w obrazach, czy w przedziale 0-1, czy 0-255, czy może inny zakres? czy każde zdjęcie ma wartości skrajne? jak sądzicie dlaczego tak jest?"
   ]
  },
  {
   "cell_type": "markdown",
   "id": "4d62a3bd",
   "metadata": {},
   "source": [
    "ani w jednej ani w drugiej bazie nie potrafię określić w zakresie są wartości pikseli.\n",
    "siim - zdjęcia trafiają się z naprawdę różnym rozkładem, czasem używane są wartości z krańca przedziału, czasem nieszczególnie:"
   ]
  },
  {
   "cell_type": "markdown",
   "id": "2cdd2dc4",
   "metadata": {},
   "source": [
    "czy są zdjęcia z dziwnie przesuniętym histogramem?"
   ]
  },
  {
   "cell_type": "markdown",
   "id": "8a6f27c6",
   "metadata": {},
   "source": [
    "<img src=\"siim_histogram_shifted.svg\">"
   ]
  },
  {
   "cell_type": "markdown",
   "id": "820b0590",
   "metadata": {},
   "source": [
    "histogram powyżej to histogram dla tego zdjęcia:"
   ]
  },
  {
   "cell_type": "markdown",
   "id": "702c9115",
   "metadata": {},
   "source": [
    "<img src=\"siim_histogram_shifted_image.svg\">"
   ]
  },
  {
   "cell_type": "markdown",
   "id": "281d19d5",
   "metadata": {},
   "source": [
    "nałożenie maski na zdjęcie - zdjęcie w skali szarości, żółte granice maski (jeśli więcej niż 1 rodzaj masek to różne kolory obwodów masek)"
   ]
  },
  {
   "cell_type": "markdown",
   "id": "0ada0c38",
   "metadata": {},
   "source": [
    "nie mam masek"
   ]
  },
  {
   "cell_type": "markdown",
   "id": "f6079ebc",
   "metadata": {},
   "source": [
    "rozmiar zmiany chorobowej w stosunku do wielkości zdjęcia"
   ]
  },
  {
   "cell_type": "markdown",
   "id": "f1a6b0b4",
   "metadata": {},
   "source": [
    "siim - nie ma rozmiaru zmian chorobowych  \n",
    "luna - wszystkie zdjęcia tej samej wielkości"
   ]
  },
  {
   "cell_type": "markdown",
   "id": "7053c3f6",
   "metadata": {},
   "source": [
    "najczęstsza lokalizacja zmiany"
   ]
  },
  {
   "cell_type": "markdown",
   "id": "f7e7fb79",
   "metadata": {},
   "source": [
    "siim nie ma lokalizacji zmian, luna:\n",
    "    <img src=\"annotation_location.svg\">"
   ]
  },
  {
   "cell_type": "markdown",
   "id": "43527a4f",
   "metadata": {},
   "source": [
    "wykres przypomina płuca"
   ]
  },
  {
   "cell_type": "markdown",
   "id": "68983df2",
   "metadata": {},
   "source": [
    "czy wszystkie zdjęcia są monochrome2 lub monochrome1?"
   ]
  },
  {
   "cell_type": "markdown",
   "id": "bdcbde45",
   "metadata": {},
   "source": [
    "nie wiem"
   ]
  },
  {
   "cell_type": "markdown",
   "id": "261054e5",
   "metadata": {},
   "source": [
    "czy wszystkie zdjęcia są dla pacjentów w pionie?"
   ]
  },
  {
   "cell_type": "markdown",
   "id": "58403913",
   "metadata": {},
   "source": [
    "nie wiem"
   ]
  },
  {
   "cell_type": "markdown",
   "id": "2ac3777e",
   "metadata": {},
   "source": [
    "czy są zdjęcia nie na środku okna (np. mocno z boku lub dołu)"
   ]
  },
  {
   "cell_type": "markdown",
   "id": "f164bfe2",
   "metadata": {},
   "source": [
    "widziałem takie, nie mam pojęcia jak je wykryć"
   ]
  }
 ],
 "metadata": {
  "kernelspec": {
   "display_name": "Python 3 (ipykernel)",
   "language": "python",
   "name": "python3"
  },
  "language_info": {
   "codemirror_mode": {
    "name": "ipython",
    "version": 3
   },
   "file_extension": ".py",
   "mimetype": "text/x-python",
   "name": "python",
   "nbconvert_exporter": "python",
   "pygments_lexer": "ipython3",
   "version": "3.9.7"
  }
 },
 "nbformat": 4,
 "nbformat_minor": 5
}
